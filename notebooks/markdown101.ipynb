{
 "cells": [
  {
   "cell_type": "markdown",
   "id": "a83d881d-d04d-466d-acf3-9b2efc2550e0",
   "metadata": {},
   "source": [
    "### This notebook can be used to refine your markdown literacy and was created while referencing [Markdown Guide](https://www.markdownguide.org/basic-syntax/)."
   ]
  },
  {
   "cell_type": "markdown",
   "id": "8e3680df-108c-4421-9180-876fca61b0ac",
   "metadata": {},
   "source": [
    "__Author__: Megan Siwak. For any questions regarding the contents of this notebook please contact megan.siwak@temple.edu or rebecca.beadling@temple.edu."
   ]
  },
  {
   "cell_type": "markdown",
   "id": "969b76ea-3d7b-4253-b357-f6f0cfd5ca44",
   "metadata": {
    "tags": []
   },
   "source": [
    "#### You should be __entering__ this lesson with ...\n",
    "* Having completely read through [__Introduction to Jupyter__](https://hackmd.io/@0u33W-OOTm2AI2VgNuXi3Q/Hyhg7nmsC/).\n",
    "* Having completed the __jupyter101.ipynb__ notebook and all questions within."
   ]
  },
  {
   "cell_type": "markdown",
   "id": "1bbd3cdd-8881-4bb8-bab6-abdd6ba27094",
   "metadata": {},
   "source": [
    "#### <font color=red> **IMPORTANT:** </font><br /><font color=red>EES students: All questions in red must be completed before pushing your notebook back to GitHub when the assignment is due.</font><br />"
   ]
  },
  {
   "cell_type": "markdown",
   "id": "8f475b7d-c7ee-4cb6-b616-1d47bb52bfd4",
   "metadata": {},
   "source": [
    "#### Note: to see the raw markdown in each one of these cells, double click the cell. This will change the cell into _edit_ mode."
   ]
  },
  {
   "cell_type": "markdown",
   "id": "3a1f9c69-0f76-4d1b-9a2f-594c4abceeb2",
   "metadata": {},
   "source": [
    "### About text sizing"
   ]
  },
  {
   "cell_type": "markdown",
   "id": "a180964e-193f-49dd-a974-e8bf8dc224de",
   "metadata": {},
   "source": [
    "Font sizes are denoted using `#`. __Note that a space is located between the # and the text.__  \n",
    "Largest text is preceded by one `#`. Text sizes decrease with an increasing number of `#`."
   ]
  },
  {
   "cell_type": "markdown",
   "id": "8fc903ba-475a-4121-9e2b-317641edb9ed",
   "metadata": {},
   "source": [
    "### Font formatting"
   ]
  },
  {
   "cell_type": "markdown",
   "id": "dde21ff0-91e1-4577-b473-90de0b8bbac5",
   "metadata": {},
   "source": [
    "| Format | Code |\n",
    "| ----- | ----- |\n",
    "| <u> Underline </u> | `<u>txt</u>` |\n",
    "| *Italicize* | `*txt*` |\n",
    "| **Bold** | `**txt**` or `__txt__`|\n",
    "| ~~Strikethrough~~ | `~~txt~~`|\n",
    "| <sub> Subscript </sub> | `<sub>txt</sub>` |\n",
    "| <sup> Superscript </sup> | `<sup>Superscript</sup>` |"
   ]
  },
  {
   "cell_type": "markdown",
   "id": "4c7e2871-5189-493e-ad76-649113d52a5b",
   "metadata": {},
   "source": [
    "### Line orientation"
   ]
  },
  {
   "cell_type": "markdown",
   "id": "2622db84-e1cd-41ed-8065-d1820ae2d71d",
   "metadata": {},
   "source": [
    "Hitting `Enter` on its own will not cause a line break when the cell is run. To write in an actual line break, type several spaces after the end of a line prior to hitting `Enter`. "
   ]
  },
  {
   "cell_type": "markdown",
   "id": "85fe1d94-9250-408e-9103-3369123f728d",
   "metadata": {},
   "source": [
    "> __Blockquote__ refers to this indented block of text.\n",
    "> To make this, type `>` prior to writing the first line. Hitting `Enter` will automatically create a new line.\n",
    "> Note that many Markdown elements can be included in blockquotes."
   ]
  },
  {
   "cell_type": "markdown",
   "id": "88622ec6-b0a1-4296-bb4e-b5a0e2c16799",
   "metadata": {},
   "source": [
    "<font color=red> **Question 1.** </font><br />\n",
    "Insert a Markdown cell below here that contains a blockquote statement that utilizes __all__ of the formatting options shown above."
   ]
  },
  {
   "cell_type": "markdown",
   "id": "c8fe8da2-ceb1-4bcd-8dcb-8d34598804b1",
   "metadata": {},
   "source": [
    "### Creating Tables"
   ]
  },
  {
   "cell_type": "markdown",
   "id": "b6c206ce-6a35-42d9-8d13-c2e2d8c9119b",
   "metadata": {},
   "source": [
    "Tables can be created using the following format:    \n",
    "`| Heading 1 | Heading 2 |`   \n",
    "`| --- | --- |`  \n",
    "`| Column 1, Row 1 | Column 2, Row 1 |`  \n",
    "`| Column 1, Row 2 | Column 2, Row 2 |`  \n",
    "and can continue downwards and outwards as necessary. Though the lines may not appear to align when writing the text, Markdown will recognize this as a table so long as the `---` are included."
   ]
  },
  {
   "cell_type": "markdown",
   "id": "fdbc2f84-96c2-4dd1-b044-f0c786bd7b76",
   "metadata": {},
   "source": [
    "<font color=red> **Question 2.** </font><br />\n",
    "Insert a Markdown cell that creates a Table that displays the long name (i.e., Obsering and Modeling Climate Change) of your courses that you are taking this semester, the associated short name (i.e., EES 3506), the day of the week of the course, and the time. It is up to you how you organize this."
   ]
  },
  {
   "cell_type": "markdown",
   "id": "114dc175-0fcc-4d30-820c-9014fc151499",
   "metadata": {
    "tags": []
   },
   "source": [
    "### Written lists"
   ]
  },
  {
   "cell_type": "markdown",
   "id": "4dd66c5e-44ce-4dd5-9d75-f84904203a2d",
   "metadata": {},
   "source": [
    "1. lists can be created by writing\n",
    "2. a number followed by a period.\n",
    "\n",
    "Or, \n",
    "\n",
    "- lists can be created by writing\n",
    "- a dash prior to each line."
   ]
  },
  {
   "cell_type": "markdown",
   "id": "dc54c0c1-d290-445b-8884-477775eea818",
   "metadata": {},
   "source": [
    "### Text color"
   ]
  },
  {
   "cell_type": "markdown",
   "id": "991e4772-797b-49c8-b6dc-44b0b96a7e10",
   "metadata": {},
   "source": [
    "Text can be written in different colors! This is done using the following format:"
   ]
  },
  {
   "cell_type": "markdown",
   "id": "05445e22-b118-492c-ac84-29243e49cc38",
   "metadata": {},
   "source": [
    "`<span style = \"color: red\"> text here`\n",
    "\n",
    "or\n",
    "\n",
    "`<font color=red> text here </font>`"
   ]
  },
  {
   "cell_type": "markdown",
   "id": "1a273206-0be3-4626-9a9f-020efc22682e",
   "metadata": {},
   "source": [
    "<span style = \"color: seagreen\"> While the above example uses red, many colors can be chosen from. This text is written in seagreen! "
   ]
  },
  {
   "cell_type": "markdown",
   "id": "5d450789-c420-4fc1-9a27-7c576c18f4af",
   "metadata": {},
   "source": [
    "<font color=red> **Question 3.** </font><br />\n",
    "Using one of the methods above, insert a Markdown cell below that will return your first and last name in the color blue."
   ]
  },
  {
   "cell_type": "markdown",
   "id": "6290c743-593e-496c-aebd-88fe248fa1c5",
   "metadata": {},
   "source": [
    "### Inserting programming code"
   ]
  },
  {
   "cell_type": "markdown",
   "id": "0dc24369-41fe-43cf-937a-d704873b7539",
   "metadata": {},
   "source": [
    "A Markdown cell can contain code (however the code will NOT be executed) -- this is done by surrounding the code in single backticks."
   ]
  },
  {
   "cell_type": "markdown",
   "id": "9028246a-1ced-4e62-8468-d44984479534",
   "metadata": {
    "tags": []
   },
   "source": [
    "### Inserting images"
   ]
  },
  {
   "cell_type": "markdown",
   "id": "cc76c3b5-ea00-4bd6-a1e4-cdcdac73165c",
   "metadata": {},
   "source": [
    "An image that resides on your computer or one from the internet be inserted into a Jupyter Notebook.\n",
    "\n",
    "If the image resides on the computer from which you are running Jupyter Lab, the .jpg or .png file should reside within your current working directory and then this code will work:\n",
    "\n",
    "`![alt txt](image_name.jpg)`\n",
    "\n",
    "If you wish to insert an image that lives somewhere on the web, you must know the path to the image. This can most readily be found by right clicking on the image and selecting __Copy Image Address__.\n",
    "\n",
    "`![image on the web](web address)`"
   ]
  },
  {
   "cell_type": "markdown",
   "id": "e87b48ed-61a7-49d8-b4a4-e4885b382a27",
   "metadata": {},
   "source": [
    "Here is an example of an image of an orange that I found on Google Images. Double click this cell to enter __Edit Mode__ to see the Markdown code:\n",
    "    \n",
    "![orange](https://i.redd.it/9aifzvaqe7ie1.jpeg)"
   ]
  },
  {
   "cell_type": "markdown",
   "id": "070163fa-52ee-4817-ba51-9cab6b2be37f",
   "metadata": {},
   "source": [
    "<font color=red> **Question 4.** </font><br />\n",
    "Find a picture of the Earth on the internet and insert it in a Markdown cell below here. Write a caption for the image below the image, within the same cell. E.g., \"A picture of the Earth taken from a satellite\"."
   ]
  },
  {
   "cell_type": "markdown",
   "id": "c8707102-b58b-4ba9-a38f-be2710592382",
   "metadata": {},
   "source": [
    "### Inserting hyperlinks into your text:"
   ]
  },
  {
   "cell_type": "markdown",
   "id": "893d9dbb-aab4-4427-a939-6238f049f413",
   "metadata": {},
   "source": [
    "To put a link in the text, type   \n",
    "`[title](link)`"
   ]
  },
  {
   "cell_type": "markdown",
   "id": "a8bb5661-b88b-47e3-89ae-1e4f016a9605",
   "metadata": {},
   "source": [
    "[Here](https://www.reddit.com/r/notinteresting/comments/1ilt92e/this_is_a_stock_image_of_an_orange_i_found_on/) is my link to the Orange!"
   ]
  },
  {
   "cell_type": "markdown",
   "id": "f094261b-0c49-4bec-a211-d449208ee336",
   "metadata": {},
   "source": [
    "<font color=red> **Question 5.** </font><br />\n",
    "Insert a Markdown cell that contains text that links to your picture of the Earth that you inserted above."
   ]
  },
  {
   "cell_type": "markdown",
   "id": "1df5beec-c7e1-4154-b1c9-1e2f9cfaf123",
   "metadata": {},
   "source": [
    "### Inserting horizontal lines to break up your notebooks:"
   ]
  },
  {
   "cell_type": "markdown",
   "id": "c4a809a5-fefe-410f-8bdc-b2f42a415acc",
   "metadata": {},
   "source": [
    "A horizontal line can be written in as `---` ."
   ]
  },
  {
   "cell_type": "markdown",
   "id": "7fba7e04-f365-47bd-a047-a1383de10c72",
   "metadata": {},
   "source": [
    "---"
   ]
  },
  {
   "cell_type": "markdown",
   "id": "e7b785a4-6f0c-4e6f-b503-40b39b0dd94a",
   "metadata": {},
   "source": [
    "#### We only went over a few commonly used examples here, yet are many more commands and tricks you can do with Markdown, check out this cheat sheet for more tips: https://medium.com/ibm-data-science-experience/markdown-for-jupyter-notebooks-cheatsheet-386c05aeebed.\n",
    "\n",
    "#### And this guide that we introduced at the start: https://www.markdownguide.org/basic-syntax/."
   ]
  }
 ],
 "metadata": {
  "kernelspec": {
   "display_name": "Python 3 (ipykernel)",
   "language": "python",
   "name": "python3"
  },
  "language_info": {
   "codemirror_mode": {
    "name": "ipython",
    "version": 3
   },
   "file_extension": ".py",
   "mimetype": "text/x-python",
   "name": "python",
   "nbconvert_exporter": "python",
   "pygments_lexer": "ipython3",
   "version": "3.9.21"
  }
 },
 "nbformat": 4,
 "nbformat_minor": 5
}
