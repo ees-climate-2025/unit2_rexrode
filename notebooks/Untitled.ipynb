{
 "cells": [
  {
   "cell_type": "code",
   "execution_count": 2,
   "id": "b16f369e-b514-4c2c-90d7-86b5481024b6",
   "metadata": {},
   "outputs": [
    {
     "name": "stdout",
     "output_type": "stream",
     "text": [
      "['tomato']\n"
     ]
    }
   ],
   "source": [
    "fruits= []\n",
    "fruits.append(\"tomato\")\n",
    "print(fruits)"
   ]
  },
  {
   "cell_type": "code",
   "execution_count": 3,
   "id": "961c8f61-c454-49f9-81bf-59ab05aa96db",
   "metadata": {},
   "outputs": [],
   "source": [
    "fruits.append(\"kiwi\")\n",
    "fruits.append(\"orange\")"
   ]
  },
  {
   "cell_type": "code",
   "execution_count": 4,
   "id": "87dc1547-285a-4316-88a7-d2b603758872",
   "metadata": {},
   "outputs": [
    {
     "data": {
      "text/plain": [
       "0"
      ]
     },
     "execution_count": 4,
     "metadata": {},
     "output_type": "execute_result"
    }
   ],
   "source": [
    "fruits.count(type)"
   ]
  },
  {
   "cell_type": "code",
   "execution_count": 5,
   "id": "bcac1034-ce06-4fe9-8774-49eaf727a4cd",
   "metadata": {},
   "outputs": [
    {
     "data": {
      "text/plain": [
       "1"
      ]
     },
     "execution_count": 5,
     "metadata": {},
     "output_type": "execute_result"
    }
   ],
   "source": [
    "fruits.count(\"tomato\")"
   ]
  },
  {
   "cell_type": "code",
   "execution_count": 6,
   "id": "b0bd7a79-240d-4ce1-b049-c88be8e5baea",
   "metadata": {},
   "outputs": [],
   "source": [
    "fruits.extend(\"tomato\")"
   ]
  },
  {
   "cell_type": "code",
   "execution_count": 7,
   "id": "40987930-2a06-4a85-b575-f094abee6ec8",
   "metadata": {},
   "outputs": [
    {
     "name": "stdout",
     "output_type": "stream",
     "text": [
      "['tomato', 'kiwi', 'orange', 't', 'o', 'm', 'a', 't', 'o']\n"
     ]
    }
   ],
   "source": [
    "print(fruits)"
   ]
  },
  {
   "cell_type": "code",
   "execution_count": 9,
   "id": "b01839b1-2535-4f92-b8da-ede4623e6584",
   "metadata": {},
   "outputs": [
    {
     "data": {
      "text/plain": [
       "0"
      ]
     },
     "execution_count": 9,
     "metadata": {},
     "output_type": "execute_result"
    }
   ],
   "source": [
    "fruits.index(\"tomato\")"
   ]
  },
  {
   "cell_type": "code",
   "execution_count": 10,
   "id": "95cdf443-d60b-4340-b628-7cdd3f637403",
   "metadata": {},
   "outputs": [
    {
     "data": {
      "text/plain": [
       "'o'"
      ]
     },
     "execution_count": 10,
     "metadata": {},
     "output_type": "execute_result"
    }
   ],
   "source": [
    "fruits.pop()"
   ]
  },
  {
   "cell_type": "code",
   "execution_count": 11,
   "id": "e8d2711c-60f0-4065-9abb-bfaae06b10e0",
   "metadata": {},
   "outputs": [],
   "source": [
    "fruits.reverse()"
   ]
  },
  {
   "cell_type": "code",
   "execution_count": 12,
   "id": "3c0c2937-fe85-4180-88b1-adb7a238babf",
   "metadata": {},
   "outputs": [
    {
     "name": "stdout",
     "output_type": "stream",
     "text": [
      "['t', 'a', 'm', 'o', 't', 'orange', 'kiwi', 'tomato']\n"
     ]
    }
   ],
   "source": [
    "print(fruits)"
   ]
  },
  {
   "cell_type": "code",
   "execution_count": 14,
   "id": "d4319236-02d2-45d0-b9bf-f312c2d59846",
   "metadata": {},
   "outputs": [
    {
     "ename": "TypeError",
     "evalue": "sort() takes no positional arguments",
     "output_type": "error",
     "traceback": [
      "\u001b[1;31m---------------------------------------------------------------------------\u001b[0m",
      "\u001b[1;31mTypeError\u001b[0m                                 Traceback (most recent call last)",
      "Cell \u001b[1;32mIn[14], line 1\u001b[0m\n\u001b[1;32m----> 1\u001b[0m fruits\u001b[38;5;241m.\u001b[39msort(\u001b[38;5;124m\"\u001b[39m\u001b[38;5;124mt\u001b[39m\u001b[38;5;124m\"\u001b[39m)\n",
      "\u001b[1;31mTypeError\u001b[0m: sort() takes no positional arguments"
     ]
    }
   ],
   "source": [
    "fruits.sort(\"t\")"
   ]
  },
  {
   "cell_type": "code",
   "execution_count": null,
   "id": "334f68f2-d065-412a-97dc-af0f8543ab15",
   "metadata": {},
   "outputs": [],
   "source": []
  }
 ],
 "metadata": {
  "kernelspec": {
   "display_name": "Python 3 (ipykernel)",
   "language": "python",
   "name": "python3"
  },
  "language_info": {
   "codemirror_mode": {
    "name": "ipython",
    "version": 3
   },
   "file_extension": ".py",
   "mimetype": "text/x-python",
   "name": "python",
   "nbconvert_exporter": "python",
   "pygments_lexer": "ipython3",
   "version": "3.11.9"
  }
 },
 "nbformat": 4,
 "nbformat_minor": 5
}
